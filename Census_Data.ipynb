{
 "cells": [
  {
   "cell_type": "code",
   "execution_count": 15,
   "metadata": {},
   "outputs": [],
   "source": [
    "import numpy as np\n",
    "import pandas as pd\n",
    "import matplotlib.pyplot as plt\n",
    "import requests\n",
    "from census import Census\n",
    "from us import states"
   ]
  },
  {
   "cell_type": "code",
   "execution_count": 27,
   "metadata": {},
   "outputs": [],
   "source": [
    "from config_census import api_key\n",
    "c = Census(api_key, year=2017)\n",
    "\n",
    "def get_census_url(state, county, key, year=2017):\n",
    "    url = \"https://api.census.gov/data/{}/acs/acs5?get=NAME,B01001_001E&for=county:{}&in=state:{}&key={}\".format(year, county, state, key)\n",
    "    return url\n"
   ]
  },
  {
   "cell_type": "code",
   "execution_count": 28,
   "metadata": {},
   "outputs": [
    {
     "name": "stdout",
     "output_type": "stream",
     "text": [
      "[[\"NAME\",\"B01001_001E\",\"state\",\"county\"],\n",
      "[\"Denver County, Colorado\",\"678467\",\"08\",\"031\"]] {'Server': 'Apache-Coyote/1.1', 'Cache-Control': 'max-age=60, must-revalidate', 'Access-Control-Allow-Origin': '*', 'Access-Control-Allow-Methods': 'GET,POST', 'Access-Control-Allow-Headers': 'Origin, X-Requested-With, Content-Type, Accept', 'Content-Type': 'application/json;charset=utf-8', 'Transfer-Encoding': 'chunked', 'Date': 'Sat, 12 Oct 2019 17:35:25 GMT', 'Strict-Transport-Security': 'max-age=31536000'} 200 https://api.census.gov/data/2017/acs/acs5?get=NAME,B01001_001E&for=county:031&in=state:08&key=85ac64b6b5a9c0901b00329d1ef41f0c53ccfc98\n"
     ]
    }
   ],
   "source": [
    "years = [2017]\n",
    "for year in years:\n",
    "    url = get_census_url('08', '031', api_key)\n",
    "    response = requests.get(url)\n",
    "    print(response.text, response.headers, response.status_code, url)\n",
    "    #response_json = response.json()\n",
    "    \n",
    "    \n",
    "#census_df = pd.DataFrame(response_json)\n",
    "#census_df.head()\n",
    "\n"
   ]
  },
  {
   "cell_type": "code",
   "execution_count": 21,
   "metadata": {},
   "outputs": [
    {
     "ename": "SyntaxError",
     "evalue": "invalid syntax (<ipython-input-21-588e9b0b1ce2>, line 2)",
     "output_type": "error",
     "traceback": [
      "\u001b[1;36m  File \u001b[1;32m\"<ipython-input-21-588e9b0b1ce2>\"\u001b[1;36m, line \u001b[1;32m2\u001b[0m\n\u001b[1;33m    census_data\u001b[0m\n\u001b[1;37m              ^\u001b[0m\n\u001b[1;31mSyntaxError\u001b[0m\u001b[1;31m:\u001b[0m invalid syntax\n"
     ]
    }
   ],
   "source": [
    "census_data = c.acs5.get((\"NAME\", \"B19013_001E\", \"B01001_001E\"), {}\n",
    "census_data"
   ]
  },
  {
   "cell_type": "code",
   "execution_count": null,
   "metadata": {},
   "outputs": [],
   "source": []
  }
 ],
 "metadata": {
  "kernelspec": {
   "display_name": "Python 3",
   "language": "python",
   "name": "python3"
  },
  "language_info": {
   "codemirror_mode": {
    "name": "ipython",
    "version": 3
   },
   "file_extension": ".py",
   "mimetype": "text/x-python",
   "name": "python",
   "nbconvert_exporter": "python",
   "pygments_lexer": "ipython3",
   "version": "3.7.3"
  }
 },
 "nbformat": 4,
 "nbformat_minor": 2
}
